{
 "cells": [
  {
   "cell_type": "markdown",
   "id": "victorian-person",
   "metadata": {},
   "source": [
    "# Chapter 01: Python Primer"
   ]
  },
  {
   "cell_type": "markdown",
   "id": "dirty-notion",
   "metadata": {},
   "source": [
    "## Exercises"
   ]
  },
  {
   "cell_type": "markdown",
   "id": "curious-chicken",
   "metadata": {},
   "source": [
    "### R-1.1\n",
    "is_multiple(n,m): Returns true if n is a multiple of m"
   ]
  },
  {
   "cell_type": "markdown",
   "id": "monthly-underwear",
   "metadata": {},
   "source": [
    "### Solution\n",
    "The modulo operator could be useful here."
   ]
  },
  {
   "cell_type": "code",
   "execution_count": 15,
   "id": "affected-grade",
   "metadata": {
    "pycharm": {
     "name": "#%%\n"
    }
   },
   "outputs": [
    {
     "data": {
      "text/plain": [
       "True"
      ]
     },
     "execution_count": 15,
     "metadata": {},
     "output_type": "execute_result"
    }
   ],
   "source": [
    "def is_multiple(n,m):\n",
    "    if m==0:return False\n",
    "    return n%m ==0\n",
    "is_multiple(2,1)"
   ]
  },
  {
   "cell_type": "markdown",
   "id": "pleasant-penny",
   "metadata": {},
   "source": [
    "### R-1.2\n",
    "is_even(k): Returns true if the number is even"
   ]
  },
  {
   "cell_type": "markdown",
   "id": "clear-honor",
   "metadata": {},
   "source": [
    "### Solution\n",
    "Use bit operations:\n",
    "因为2的倍数的二进制最后一位都是0,使用&判断最后一位是否为0"
   ]
  },
  {
   "cell_type": "code",
   "execution_count": 16,
   "id": "complete-microwave",
   "metadata": {
    "pycharm": {
     "name": "#%%\n"
    }
   },
   "outputs": [
    {
     "data": {
      "text/plain": [
       "False"
      ]
     },
     "execution_count": 16,
     "metadata": {},
     "output_type": "execute_result"
    }
   ],
   "source": [
    "def is_even(k:int):\n",
    "    if k&1==0:return True\n",
    "    return False\n",
    "is_even(9)"
   ]
  },
  {
   "cell_type": "markdown",
   "id": "headed-buyer",
   "metadata": {},
   "source": [
    "### R-1.3\n",
    "minmax(data): Find the maximum and minimum values in the sequence of numbers and return a tuple length is 2\n"
   ]
  },
  {
   "cell_type": "markdown",
   "source": [
    "### Solution"
   ],
   "metadata": {
    "collapsed": false
   }
  },
  {
   "cell_type": "code",
   "execution_count": null,
   "outputs": [],
   "source": [
    "def minmax(data:list):\n",
    "    pass"
   ],
   "metadata": {
    "collapsed": false,
    "pycharm": {
     "name": "#%%\n"
    }
   }
  },
  {
   "cell_type": "markdown",
   "id": "seeing-change",
   "metadata": {},
   "source": [
    "### R-1.4\n"
   ]
  },
  {
   "cell_type": "code",
   "execution_count": null,
   "id": "challenging-preference",
   "metadata": {},
   "outputs": [],
   "source": []
  },
  {
   "cell_type": "markdown",
   "id": "minor-cardiff",
   "metadata": {},
   "source": [
    "### R-1.4\n"
   ]
  },
  {
   "cell_type": "markdown",
   "id": "veterinary-panel",
   "metadata": {},
   "source": [
    "### R-1.5\n"
   ]
  },
  {
   "cell_type": "markdown",
   "id": "buried-occurrence",
   "metadata": {},
   "source": [
    "### R-1.6\n"
   ]
  },
  {
   "cell_type": "markdown",
   "id": "contained-phoenix",
   "metadata": {},
   "source": [
    "### R-1.7\n"
   ]
  },
  {
   "cell_type": "markdown",
   "id": "complex-farmer",
   "metadata": {},
   "source": [
    "### R-1.8"
   ]
  },
  {
   "cell_type": "markdown",
   "id": "silver-lincoln",
   "metadata": {},
   "source": [
    "### R-1.9"
   ]
  },
  {
   "cell_type": "markdown",
   "id": "falling-competition",
   "metadata": {},
   "source": [
    "### R-1.10\n",
    "What parameters should be sent to the `range` constructor, to produce a range with values 8, 6, 4, 2, 0, -2, -4, -6, -8?"
   ]
  },
  {
   "cell_type": "code",
   "execution_count": 16,
   "id": "experimental-stephen",
   "metadata": {
    "pycharm": {
     "name": "#%%\n"
    }
   },
   "outputs": [],
   "source": []
  },
  {
   "cell_type": "markdown",
   "id": "mineral-strain",
   "metadata": {},
   "source": [
    "### R-1.2\n"
   ]
  },
  {
   "cell_type": "markdown",
   "id": "stuck-hayes",
   "metadata": {},
   "source": [
    "### R-1.3\n"
   ]
  },
  {
   "cell_type": "markdown",
   "id": "spectacular-michael",
   "metadata": {},
   "source": [
    "### R-1.4\n"
   ]
  },
  {
   "cell_type": "markdown",
   "id": "level-porter",
   "metadata": {},
   "source": [
    "### R-1.5\n"
   ]
  },
  {
   "cell_type": "markdown",
   "id": "opposed-litigation",
   "metadata": {},
   "source": [
    "### R-1.6\n"
   ]
  },
  {
   "cell_type": "markdown",
   "id": "caring-newport",
   "metadata": {},
   "source": [
    "### R-1.7\n"
   ]
  },
  {
   "cell_type": "markdown",
   "id": "surgical-tutorial",
   "metadata": {},
   "source": [
    "### R-1.8"
   ]
  },
  {
   "cell_type": "markdown",
   "id": "loving-indian",
   "metadata": {},
   "source": [
    "### R-1.9"
   ]
  },
  {
   "cell_type": "markdown",
   "id": "seasonal-operations",
   "metadata": {},
   "source": [
    "### R-1.10\n",
    "What parameters should be sent to the `range` constructor, to produce a range with values 8, 6, 4, 2, 0, -2, -4, -6, -8?"
   ]
  },
  {
   "cell_type": "code",
   "execution_count": 16,
   "id": "correct-pontiac",
   "metadata": {
    "pycharm": {
     "name": "#%%\n"
    }
   },
   "outputs": [],
   "source": []
  },
  {
   "cell_type": "markdown",
   "id": "corporate-classroom",
   "metadata": {},
   "source": [
    "### R-1.2\n"
   ]
  },
  {
   "cell_type": "markdown",
   "id": "saved-trial",
   "metadata": {},
   "source": [
    "### R-1.3\n"
   ]
  },
  {
   "cell_type": "markdown",
   "id": "blond-michigan",
   "metadata": {},
   "source": [
    "### R-1.4\n"
   ]
  },
  {
   "cell_type": "markdown",
   "id": "boxed-importance",
   "metadata": {},
   "source": [
    "### R-1.5\n"
   ]
  },
  {
   "cell_type": "markdown",
   "id": "cellular-stretch",
   "metadata": {},
   "source": [
    "### R-1.6\n"
   ]
  },
  {
   "cell_type": "markdown",
   "id": "typical-norway",
   "metadata": {},
   "source": [
    "### R-1.7\n"
   ]
  },
  {
   "cell_type": "markdown",
   "id": "mighty-success",
   "metadata": {},
   "source": [
    "### R-1.8"
   ]
  },
  {
   "cell_type": "markdown",
   "id": "honest-miniature",
   "metadata": {},
   "source": [
    "### R-1.9"
   ]
  },
  {
   "cell_type": "markdown",
   "id": "prerequisite-tulsa",
   "metadata": {},
   "source": [
    "### R-1.10\n",
    "What parameters should be sent to the `range` constructor, to produce a range with values 8, 6, 4, 2, 0, -2, -4, -6, -8?"
   ]
  },
  {
   "cell_type": "code",
   "execution_count": 16,
   "id": "applied-tiffany",
   "metadata": {
    "pycharm": {
     "name": "#%%\n"
    }
   },
   "outputs": [],
   "source": []
  },
  {
   "cell_type": "markdown",
   "id": "original-cornell",
   "metadata": {},
   "source": [
    "### R-1.2\n"
   ]
  },
  {
   "cell_type": "markdown",
   "id": "contrary-breakdown",
   "metadata": {},
   "source": [
    "### R-1.3\n"
   ]
  },
  {
   "cell_type": "markdown",
   "id": "descending-letters",
   "metadata": {},
   "source": [
    "### R-1.4\n"
   ]
  },
  {
   "cell_type": "markdown",
   "id": "provincial-madagascar",
   "metadata": {},
   "source": [
    "### R-1.5\n"
   ]
  },
  {
   "cell_type": "markdown",
   "id": "associate-remains",
   "metadata": {},
   "source": [
    "### R-1.6\n"
   ]
  },
  {
   "cell_type": "markdown",
   "id": "british-provider",
   "metadata": {},
   "source": [
    "### R-1.7\n"
   ]
  },
  {
   "cell_type": "markdown",
   "id": "mexican-cheese",
   "metadata": {},
   "source": [
    "### R-1.8"
   ]
  },
  {
   "cell_type": "markdown",
   "id": "played-ghost",
   "metadata": {},
   "source": [
    "### R-1.9"
   ]
  },
  {
   "cell_type": "markdown",
   "id": "international-packing",
   "metadata": {},
   "source": [
    "### R-1.10\n",
    "What parameters should be sent to the `range` constructor, to produce a range with values 8, 6, 4, 2, 0, -2, -4, -6, -8?"
   ]
  },
  {
   "cell_type": "code",
   "execution_count": 16,
   "id": "caroline-context",
   "metadata": {
    "pycharm": {
     "name": "#%%\n"
    }
   },
   "outputs": [],
   "source": []
  },
  {
   "cell_type": "markdown",
   "id": "skilled-guyana",
   "metadata": {},
   "source": [
    "### R-1.2\n"
   ]
  },
  {
   "cell_type": "markdown",
   "id": "balanced-financing",
   "metadata": {},
   "source": [
    "### R-1.3\n"
   ]
  },
  {
   "cell_type": "markdown",
   "id": "yellow-packing",
   "metadata": {},
   "source": [
    "### R-1.4\n"
   ]
  },
  {
   "cell_type": "markdown",
   "id": "initial-mayor",
   "metadata": {},
   "source": [
    "### R-1.5\n"
   ]
  },
  {
   "cell_type": "markdown",
   "id": "standing-burlington",
   "metadata": {},
   "source": [
    "### R-1.6\n"
   ]
  },
  {
   "cell_type": "markdown",
   "id": "alpha-craft",
   "metadata": {},
   "source": [
    "### R-1.7\n"
   ]
  },
  {
   "cell_type": "markdown",
   "id": "south-mattress",
   "metadata": {},
   "source": [
    "### R-1.8"
   ]
  },
  {
   "cell_type": "markdown",
   "id": "floppy-slovenia",
   "metadata": {},
   "source": [
    "### R-1.9"
   ]
  },
  {
   "cell_type": "markdown",
   "id": "operating-schema",
   "metadata": {},
   "source": [
    "### R-1.10\n",
    "What parameters should be sent to the `range` constructor, to produce a range with values 8, 6, 4, 2, 0, -2, -4, -6, -8?"
   ]
  },
  {
   "cell_type": "code",
   "execution_count": 16,
   "id": "ecological-given",
   "metadata": {
    "pycharm": {
     "name": "#%%\n"
    }
   },
   "outputs": [],
   "source": []
  },
  {
   "cell_type": "markdown",
   "id": "scientific-sheriff",
   "metadata": {},
   "source": [
    "### R-1.2\n"
   ]
  },
  {
   "cell_type": "markdown",
   "id": "excessive-training",
   "metadata": {},
   "source": [
    "### R-1.3\n"
   ]
  },
  {
   "cell_type": "markdown",
   "id": "improved-validity",
   "metadata": {},
   "source": [
    "### R-1.4\n"
   ]
  },
  {
   "cell_type": "markdown",
   "id": "promising-admission",
   "metadata": {},
   "source": [
    "### R-1.5\n"
   ]
  },
  {
   "cell_type": "markdown",
   "id": "wired-departure",
   "metadata": {},
   "source": [
    "### R-1.6\n"
   ]
  },
  {
   "cell_type": "markdown",
   "id": "structured-council",
   "metadata": {},
   "source": [
    "### R-1.7\n"
   ]
  },
  {
   "cell_type": "markdown",
   "id": "israeli-midwest",
   "metadata": {},
   "source": [
    "### R-1.8"
   ]
  },
  {
   "cell_type": "markdown",
   "id": "speaking-alcohol",
   "metadata": {},
   "source": [
    "### R-1.9"
   ]
  },
  {
   "cell_type": "markdown",
   "id": "adaptive-greenhouse",
   "metadata": {},
   "source": [
    "### R-1.10\n",
    "What parameters should be sent to the `range` constructor, to produce a range with values 8, 6, 4, 2, 0, -2, -4, -6, -8?"
   ]
  },
  {
   "cell_type": "code",
   "execution_count": 16,
   "id": "wrong-strand",
   "metadata": {
    "pycharm": {
     "name": "#%%\n"
    }
   },
   "outputs": [],
   "source": []
  },
  {
   "cell_type": "markdown",
   "id": "dynamic-arrival",
   "metadata": {},
   "source": [
    "### R-1.2\n"
   ]
  },
  {
   "cell_type": "markdown",
   "id": "secondary-northwest",
   "metadata": {},
   "source": [
    "### R-1.3\n"
   ]
  },
  {
   "cell_type": "markdown",
   "id": "boolean-wholesale",
   "metadata": {},
   "source": [
    "### R-1.4\n"
   ]
  },
  {
   "cell_type": "markdown",
   "id": "automotive-tooth",
   "metadata": {},
   "source": [
    "### R-1.5\n"
   ]
  },
  {
   "cell_type": "markdown",
   "id": "centered-validity",
   "metadata": {},
   "source": [
    "### R-1.6\n"
   ]
  },
  {
   "cell_type": "markdown",
   "id": "creative-briefs",
   "metadata": {},
   "source": [
    "### R-1.7\n"
   ]
  },
  {
   "cell_type": "markdown",
   "id": "vulnerable-avenue",
   "metadata": {},
   "source": [
    "### R-1.8"
   ]
  },
  {
   "cell_type": "markdown",
   "id": "interested-orbit",
   "metadata": {},
   "source": [
    "### R-1.9"
   ]
  },
  {
   "cell_type": "markdown",
   "id": "foster-dancing",
   "metadata": {},
   "source": [
    "### R-1.10\n",
    "What parameters should be sent to the `range` constructor, to produce a range with values 8, 6, 4, 2, 0, -2, -4, -6, -8?"
   ]
  },
  {
   "cell_type": "code",
   "execution_count": 16,
   "id": "substantial-application",
   "metadata": {
    "pycharm": {
     "name": "#%%\n"
    }
   },
   "outputs": [],
   "source": []
  },
  {
   "cell_type": "markdown",
   "id": "finnish-stuart",
   "metadata": {},
   "source": [
    "### R-1.2\n"
   ]
  },
  {
   "cell_type": "markdown",
   "id": "parental-system",
   "metadata": {},
   "source": [
    "### R-1.3\n"
   ]
  },
  {
   "cell_type": "markdown",
   "id": "excessive-parking",
   "metadata": {},
   "source": [
    "### R-1.4\n"
   ]
  },
  {
   "cell_type": "markdown",
   "id": "radio-driver",
   "metadata": {},
   "source": [
    "### R-1.5\n"
   ]
  },
  {
   "cell_type": "markdown",
   "id": "global-tyler",
   "metadata": {},
   "source": [
    "### R-1.6\n"
   ]
  },
  {
   "cell_type": "markdown",
   "id": "thrown-weather",
   "metadata": {},
   "source": [
    "### R-1.7\n"
   ]
  },
  {
   "cell_type": "markdown",
   "id": "changed-voice",
   "metadata": {},
   "source": [
    "### R-1.8"
   ]
  },
  {
   "cell_type": "markdown",
   "id": "important-nightmare",
   "metadata": {},
   "source": [
    "### R-1.9"
   ]
  },
  {
   "cell_type": "markdown",
   "id": "applicable-mailman",
   "metadata": {},
   "source": [
    "### R-1.10\n",
    "What parameters should be sent to the `range` constructor, to produce a range with values 8, 6, 4, 2, 0, -2, -4, -6, -8?"
   ]
  },
  {
   "cell_type": "code",
   "execution_count": 16,
   "id": "sexual-copper",
   "metadata": {
    "pycharm": {
     "name": "#%%\n"
    }
   },
   "outputs": [],
   "source": []
  },
  {
   "cell_type": "markdown",
   "id": "juvenile-revision",
   "metadata": {},
   "source": [
    "### R-1.2\n"
   ]
  },
  {
   "cell_type": "markdown",
   "id": "opposite-hammer",
   "metadata": {},
   "source": [
    "### R-1.3\n"
   ]
  },
  {
   "cell_type": "markdown",
   "id": "stylish-breathing",
   "metadata": {},
   "source": [
    "### R-1.4\n"
   ]
  },
  {
   "cell_type": "markdown",
   "id": "incident-prototype",
   "metadata": {},
   "source": [
    "### R-1.5\n"
   ]
  },
  {
   "cell_type": "markdown",
   "id": "challenging-factory",
   "metadata": {},
   "source": [
    "### R-1.6\n"
   ]
  },
  {
   "cell_type": "markdown",
   "id": "atlantic-facing",
   "metadata": {},
   "source": [
    "### R-1.7\n"
   ]
  },
  {
   "cell_type": "markdown",
   "id": "changed-composition",
   "metadata": {},
   "source": [
    "### R-1.8"
   ]
  },
  {
   "cell_type": "markdown",
   "id": "surgical-attitude",
   "metadata": {},
   "source": [
    "### R-1.9"
   ]
  },
  {
   "cell_type": "markdown",
   "id": "floating-vertical",
   "metadata": {},
   "source": [
    "### R-1.10\n",
    "What parameters should be sent to the `range` constructor, to produce a range with values 8, 6, 4, 2, 0, -2, -4, -6, -8?"
   ]
  },
  {
   "cell_type": "code",
   "execution_count": 16,
   "id": "productive-officer",
   "metadata": {
    "pycharm": {
     "name": "#%%\n"
    }
   },
   "outputs": [],
   "source": []
  },
  {
   "cell_type": "markdown",
   "id": "relevant-architect",
   "metadata": {},
   "source": [
    "### R-1.2\n"
   ]
  },
  {
   "cell_type": "markdown",
   "id": "prepared-pierre",
   "metadata": {},
   "source": [
    "### R-1.3\n"
   ]
  },
  {
   "cell_type": "markdown",
   "id": "academic-cycling",
   "metadata": {},
   "source": [
    "### R-1.4\n"
   ]
  },
  {
   "cell_type": "markdown",
   "id": "synthetic-scientist",
   "metadata": {},
   "source": [
    "### R-1.5\n"
   ]
  },
  {
   "cell_type": "markdown",
   "id": "heard-convergence",
   "metadata": {},
   "source": [
    "### R-1.6\n"
   ]
  },
  {
   "cell_type": "markdown",
   "id": "excessive-departure",
   "metadata": {},
   "source": [
    "### R-1.7\n"
   ]
  },
  {
   "cell_type": "markdown",
   "id": "proved-triple",
   "metadata": {},
   "source": [
    "### R-1.8"
   ]
  },
  {
   "cell_type": "markdown",
   "id": "weekly-dream",
   "metadata": {},
   "source": [
    "### R-1.9"
   ]
  },
  {
   "cell_type": "markdown",
   "id": "bizarre-sphere",
   "metadata": {},
   "source": [
    "### R-1.10\n",
    "What parameters should be sent to the `range` constructor, to produce a range with values 8, 6, 4, 2, 0, -2, -4, -6, -8?"
   ]
  },
  {
   "cell_type": "code",
   "execution_count": 16,
   "id": "premier-hartford",
   "metadata": {
    "pycharm": {
     "name": "#%%\n"
    }
   },
   "outputs": [],
   "source": []
  },
  {
   "cell_type": "markdown",
   "id": "destroyed-shareware",
   "metadata": {},
   "source": [
    "### R-1.2\n"
   ]
  },
  {
   "cell_type": "markdown",
   "id": "announced-angel",
   "metadata": {},
   "source": [
    "### R-1.3\n"
   ]
  },
  {
   "cell_type": "markdown",
   "id": "furnished-tampa",
   "metadata": {},
   "source": [
    "### R-1.4\n"
   ]
  },
  {
   "cell_type": "markdown",
   "id": "proprietary-plymouth",
   "metadata": {},
   "source": [
    "### R-1.5\n"
   ]
  },
  {
   "cell_type": "markdown",
   "id": "gothic-harrison",
   "metadata": {},
   "source": [
    "### R-1.6\n"
   ]
  },
  {
   "cell_type": "markdown",
   "id": "opening-investigation",
   "metadata": {},
   "source": [
    "### R-1.7\n"
   ]
  },
  {
   "cell_type": "markdown",
   "id": "laden-ranking",
   "metadata": {},
   "source": [
    "### R-1.8"
   ]
  },
  {
   "cell_type": "markdown",
   "id": "yellow-sigma",
   "metadata": {},
   "source": [
    "### R-1.9"
   ]
  },
  {
   "cell_type": "markdown",
   "id": "intelligent-nigeria",
   "metadata": {},
   "source": [
    "### R-1.10\n",
    "What parameters should be sent to the `range` constructor, to produce a range with values 8, 6, 4, 2, 0, -2, -4, -6, -8?"
   ]
  },
  {
   "cell_type": "code",
   "execution_count": 16,
   "id": "overall-complexity",
   "metadata": {
    "pycharm": {
     "name": "#%%\n"
    }
   },
   "outputs": [],
   "source": []
  },
  {
   "cell_type": "markdown",
   "id": "straight-journey",
   "metadata": {},
   "source": [
    "### R-1.2\n"
   ]
  },
  {
   "cell_type": "markdown",
   "id": "prepared-running",
   "metadata": {},
   "source": [
    "### R-1.3\n"
   ]
  },
  {
   "cell_type": "markdown",
   "id": "saving-conjunction",
   "metadata": {},
   "source": [
    "### R-1.4\n"
   ]
  },
  {
   "cell_type": "markdown",
   "id": "scheduled-large",
   "metadata": {},
   "source": [
    "### R-1.5\n"
   ]
  },
  {
   "cell_type": "markdown",
   "id": "knowing-disclaimer",
   "metadata": {},
   "source": [
    "### R-1.6\n"
   ]
  },
  {
   "cell_type": "markdown",
   "id": "nasty-tradition",
   "metadata": {},
   "source": [
    "### R-1.7\n"
   ]
  },
  {
   "cell_type": "markdown",
   "id": "right-equilibrium",
   "metadata": {},
   "source": [
    "### R-1.8"
   ]
  },
  {
   "cell_type": "markdown",
   "id": "sought-bones",
   "metadata": {},
   "source": [
    "### R-1.9"
   ]
  },
  {
   "cell_type": "markdown",
   "id": "ideal-harvard",
   "metadata": {},
   "source": [
    "### R-1.10\n",
    "What parameters should be sent to the `range` constructor, to produce a range with values 8, 6, 4, 2, 0, -2, -4, -6, -8?"
   ]
  },
  {
   "cell_type": "code",
   "execution_count": 16,
   "id": "processed-yeast",
   "metadata": {
    "pycharm": {
     "name": "#%%\n"
    }
   },
   "outputs": [],
   "source": []
  },
  {
   "cell_type": "markdown",
   "id": "painful-boulder",
   "metadata": {},
   "source": [
    "### R-1.2\n"
   ]
  },
  {
   "cell_type": "markdown",
   "id": "unable-walnut",
   "metadata": {},
   "source": [
    "### R-1.3\n"
   ]
  },
  {
   "cell_type": "markdown",
   "id": "above-provider",
   "metadata": {},
   "source": [
    "### R-1.4\n"
   ]
  },
  {
   "cell_type": "markdown",
   "id": "liable-intellectual",
   "metadata": {},
   "source": [
    "### R-1.5\n"
   ]
  },
  {
   "cell_type": "markdown",
   "id": "green-proxy",
   "metadata": {},
   "source": [
    "### R-1.6\n"
   ]
  },
  {
   "cell_type": "markdown",
   "id": "olive-qatar",
   "metadata": {},
   "source": [
    "### R-1.7\n"
   ]
  },
  {
   "cell_type": "markdown",
   "id": "spoken-orleans",
   "metadata": {},
   "source": [
    "### R-1.8"
   ]
  },
  {
   "cell_type": "markdown",
   "id": "viral-circle",
   "metadata": {},
   "source": [
    "### R-1.9"
   ]
  },
  {
   "cell_type": "markdown",
   "id": "protective-liechtenstein",
   "metadata": {},
   "source": [
    "### R-1.10\n",
    "What parameters should be sent to the `range` constructor, to produce a range with values 8, 6, 4, 2, 0, -2, -4, -6, -8?"
   ]
  },
  {
   "cell_type": "code",
   "execution_count": 16,
   "id": "outside-structure",
   "metadata": {
    "pycharm": {
     "name": "#%%\n"
    }
   },
   "outputs": [],
   "source": []
  },
  {
   "cell_type": "markdown",
   "id": "indonesian-works",
   "metadata": {},
   "source": [
    "### R-1.2\n"
   ]
  },
  {
   "cell_type": "markdown",
   "id": "aging-rapid",
   "metadata": {},
   "source": [
    "### R-1.3\n"
   ]
  },
  {
   "cell_type": "markdown",
   "id": "bibliographic-stick",
   "metadata": {},
   "source": [
    "### R-1.4\n"
   ]
  },
  {
   "cell_type": "markdown",
   "id": "blocked-lithuania",
   "metadata": {},
   "source": [
    "### R-1.5\n"
   ]
  },
  {
   "cell_type": "markdown",
   "id": "thrown-median",
   "metadata": {},
   "source": [
    "### R-1.6\n"
   ]
  },
  {
   "cell_type": "markdown",
   "id": "greenhouse-superintendent",
   "metadata": {},
   "source": [
    "### R-1.7\n"
   ]
  },
  {
   "cell_type": "markdown",
   "id": "classified-fireplace",
   "metadata": {},
   "source": [
    "### R-1.8"
   ]
  },
  {
   "cell_type": "markdown",
   "id": "corrected-mongolia",
   "metadata": {},
   "source": [
    "### R-1.9"
   ]
  },
  {
   "cell_type": "markdown",
   "id": "manual-basin",
   "metadata": {},
   "source": [
    "### R-1.10\n",
    "What parameters should be sent to the `range` constructor, to produce a range with values 8, 6, 4, 2, 0, -2, -4, -6, -8?"
   ]
  },
  {
   "cell_type": "code",
   "execution_count": 16,
   "id": "macro-messaging",
   "metadata": {
    "pycharm": {
     "name": "#%%\n"
    }
   },
   "outputs": [],
   "source": []
  },
  {
   "cell_type": "markdown",
   "id": "crucial-depression",
   "metadata": {},
   "source": [
    "### R-1.2\n"
   ]
  },
  {
   "cell_type": "markdown",
   "id": "modified-housing",
   "metadata": {},
   "source": [
    "### R-1.3\n"
   ]
  },
  {
   "cell_type": "markdown",
   "id": "forbidden-touch",
   "metadata": {},
   "source": [
    "### R-1.4\n"
   ]
  },
  {
   "cell_type": "markdown",
   "id": "numerous-attack",
   "metadata": {},
   "source": [
    "### R-1.5\n"
   ]
  },
  {
   "cell_type": "markdown",
   "id": "retained-married",
   "metadata": {},
   "source": [
    "### R-1.6\n"
   ]
  },
  {
   "cell_type": "markdown",
   "id": "straight-continuity",
   "metadata": {},
   "source": [
    "### R-1.7\n"
   ]
  },
  {
   "cell_type": "markdown",
   "id": "overhead-hurricane",
   "metadata": {},
   "source": [
    "### R-1.8"
   ]
  },
  {
   "cell_type": "markdown",
   "id": "outer-picnic",
   "metadata": {},
   "source": [
    "### R-1.9"
   ]
  },
  {
   "cell_type": "markdown",
   "id": "electric-metabolism",
   "metadata": {},
   "source": [
    "### R-1.10\n",
    "What parameters should be sent to the `range` constructor, to produce a range with values 8, 6, 4, 2, 0, -2, -4, -6, -8?"
   ]
  },
  {
   "cell_type": "code",
   "execution_count": 16,
   "id": "embedded-wright",
   "metadata": {
    "pycharm": {
     "name": "#%%\n"
    }
   },
   "outputs": [],
   "source": []
  },
  {
   "cell_type": "markdown",
   "id": "requested-batch",
   "metadata": {},
   "source": [
    "### R-1.2\n"
   ]
  },
  {
   "cell_type": "markdown",
   "id": "stone-movement",
   "metadata": {},
   "source": [
    "### R-1.3\n"
   ]
  },
  {
   "cell_type": "markdown",
   "id": "mounted-cabin",
   "metadata": {},
   "source": [
    "### R-1.4\n"
   ]
  },
  {
   "cell_type": "markdown",
   "id": "female-blink",
   "metadata": {},
   "source": [
    "### R-1.5\n"
   ]
  },
  {
   "cell_type": "markdown",
   "id": "political-diary",
   "metadata": {},
   "source": [
    "### R-1.6\n"
   ]
  },
  {
   "cell_type": "markdown",
   "id": "present-stereo",
   "metadata": {},
   "source": [
    "### R-1.7\n"
   ]
  },
  {
   "cell_type": "markdown",
   "id": "conditional-sleep",
   "metadata": {},
   "source": [
    "### R-1.8"
   ]
  },
  {
   "cell_type": "markdown",
   "id": "handmade-hotel",
   "metadata": {},
   "source": [
    "### R-1.9"
   ]
  },
  {
   "cell_type": "markdown",
   "id": "finished-butterfly",
   "metadata": {},
   "source": [
    "### R-1.10\n",
    "What parameters should be sent to the `range` constructor, to produce a range with values 8, 6, 4, 2, 0, -2, -4, -6, -8?"
   ]
  },
  {
   "cell_type": "code",
   "execution_count": 16,
   "id": "joined-arthritis",
   "metadata": {
    "pycharm": {
     "name": "#%%\n"
    }
   },
   "outputs": [],
   "source": []
  },
  {
   "cell_type": "markdown",
   "id": "retired-settlement",
   "metadata": {},
   "source": [
    "### R-1.2\n"
   ]
  },
  {
   "cell_type": "markdown",
   "id": "juvenile-spectacular",
   "metadata": {},
   "source": [
    "### R-1.3\n"
   ]
  },
  {
   "cell_type": "markdown",
   "id": "clinical-occasions",
   "metadata": {},
   "source": [
    "### R-1.4\n"
   ]
  },
  {
   "cell_type": "markdown",
   "id": "editorial-smith",
   "metadata": {},
   "source": [
    "### R-1.5\n"
   ]
  },
  {
   "cell_type": "markdown",
   "id": "outdoor-helen",
   "metadata": {},
   "source": [
    "### R-1.6\n"
   ]
  },
  {
   "cell_type": "markdown",
   "id": "initial-oxford",
   "metadata": {},
   "source": [
    "### R-1.7\n"
   ]
  },
  {
   "cell_type": "markdown",
   "id": "administrative-bangladesh",
   "metadata": {},
   "source": [
    "### R-1.8"
   ]
  },
  {
   "cell_type": "markdown",
   "id": "sustainable-daughter",
   "metadata": {},
   "source": [
    "### R-1.9"
   ]
  },
  {
   "cell_type": "markdown",
   "id": "guided-technical",
   "metadata": {},
   "source": [
    "### R-1.10\n",
    "What parameters should be sent to the `range` constructor, to produce a range with values 8, 6, 4, 2, 0, -2, -4, -6, -8?"
   ]
  },
  {
   "cell_type": "code",
   "execution_count": 16,
   "id": "integral-weekly",
   "metadata": {
    "pycharm": {
     "name": "#%%\n"
    }
   },
   "outputs": [],
   "source": []
  },
  {
   "cell_type": "markdown",
   "id": "average-divorce",
   "metadata": {},
   "source": [
    "### R-1.2\n"
   ]
  },
  {
   "cell_type": "markdown",
   "id": "blank-secondary",
   "metadata": {},
   "source": [
    "### R-1.3\n"
   ]
  },
  {
   "cell_type": "markdown",
   "id": "southwest-receptor",
   "metadata": {},
   "source": [
    "### R-1.4\n"
   ]
  },
  {
   "cell_type": "markdown",
   "id": "unusual-plaza",
   "metadata": {},
   "source": [
    "### R-1.5\n"
   ]
  },
  {
   "cell_type": "markdown",
   "id": "looking-import",
   "metadata": {},
   "source": [
    "### R-1.6\n"
   ]
  },
  {
   "cell_type": "markdown",
   "id": "bottom-adjustment",
   "metadata": {},
   "source": [
    "### R-1.7\n"
   ]
  },
  {
   "cell_type": "markdown",
   "id": "positive-banks",
   "metadata": {},
   "source": [
    "### R-1.8"
   ]
  },
  {
   "cell_type": "markdown",
   "id": "three-danger",
   "metadata": {},
   "source": [
    "### R-1.9"
   ]
  },
  {
   "cell_type": "markdown",
   "id": "complicated-engine",
   "metadata": {},
   "source": [
    "### R-1.10\n",
    "What parameters should be sent to the `range` constructor, to produce a range with values 8, 6, 4, 2, 0, -2, -4, -6, -8?"
   ]
  },
  {
   "cell_type": "code",
   "execution_count": 16,
   "id": "measured-evaluation",
   "metadata": {
    "pycharm": {
     "name": "#%%\n"
    }
   },
   "outputs": [],
   "source": []
  },
  {
   "cell_type": "markdown",
   "id": "dangerous-singing",
   "metadata": {},
   "source": [
    "### R-1.2\n"
   ]
  },
  {
   "cell_type": "markdown",
   "id": "talented-plaintiff",
   "metadata": {},
   "source": [
    "### R-1.3\n"
   ]
  },
  {
   "cell_type": "markdown",
   "id": "acute-perfume",
   "metadata": {},
   "source": [
    "### R-1.4\n"
   ]
  },
  {
   "cell_type": "markdown",
   "id": "diagnostic-lawyer",
   "metadata": {},
   "source": [
    "### R-1.5\n"
   ]
  },
  {
   "cell_type": "markdown",
   "id": "mysterious-honolulu",
   "metadata": {},
   "source": [
    "### R-1.6\n"
   ]
  },
  {
   "cell_type": "markdown",
   "id": "extensive-midnight",
   "metadata": {},
   "source": [
    "### R-1.7\n"
   ]
  },
  {
   "cell_type": "markdown",
   "id": "cognitive-shakespeare",
   "metadata": {},
   "source": [
    "### R-1.8"
   ]
  },
  {
   "cell_type": "markdown",
   "id": "retained-winning",
   "metadata": {},
   "source": [
    "### R-1.9"
   ]
  },
  {
   "cell_type": "markdown",
   "id": "fallen-impact",
   "metadata": {},
   "source": [
    "### R-1.10\n",
    "What parameters should be sent to the `range` constructor, to produce a range with values 8, 6, 4, 2, 0, -2, -4, -6, -8?"
   ]
  },
  {
   "cell_type": "code",
   "execution_count": 16,
   "id": "immediate-intensity",
   "metadata": {
    "pycharm": {
     "name": "#%%\n"
    }
   },
   "outputs": [],
   "source": []
  },
  {
   "cell_type": "markdown",
   "id": "integrated-marks",
   "metadata": {},
   "source": [
    "### R-1.2\n"
   ]
  },
  {
   "cell_type": "markdown",
   "id": "accomplished-jungle",
   "metadata": {},
   "source": [
    "### R-1.3\n"
   ]
  },
  {
   "cell_type": "markdown",
   "id": "hairy-shape",
   "metadata": {},
   "source": [
    "### R-1.4\n"
   ]
  },
  {
   "cell_type": "markdown",
   "id": "stable-probability",
   "metadata": {},
   "source": [
    "### R-1.5\n"
   ]
  },
  {
   "cell_type": "markdown",
   "id": "thirty-swing",
   "metadata": {},
   "source": [
    "### R-1.6\n"
   ]
  },
  {
   "cell_type": "markdown",
   "id": "outstanding-handbook",
   "metadata": {},
   "source": [
    "### R-1.7\n"
   ]
  },
  {
   "cell_type": "markdown",
   "id": "proud-access",
   "metadata": {},
   "source": [
    "### R-1.8"
   ]
  },
  {
   "cell_type": "markdown",
   "id": "demonstrated-glance",
   "metadata": {},
   "source": [
    "### R-1.9"
   ]
  },
  {
   "cell_type": "markdown",
   "id": "given-standing",
   "metadata": {},
   "source": [
    "### R-1.10\n",
    "What parameters should be sent to the `range` constructor, to produce a range with values 8, 6, 4, 2, 0, -2, -4, -6, -8?"
   ]
  },
  {
   "cell_type": "code",
   "execution_count": 16,
   "id": "junior-colors",
   "metadata": {
    "pycharm": {
     "name": "#%%\n"
    }
   },
   "outputs": [],
   "source": []
  },
  {
   "cell_type": "markdown",
   "id": "palestinian-deputy",
   "metadata": {},
   "source": [
    "### R-1.2\n"
   ]
  },
  {
   "cell_type": "markdown",
   "id": "regulated-bachelor",
   "metadata": {},
   "source": [
    "### R-1.3\n"
   ]
  },
  {
   "cell_type": "markdown",
   "id": "harmful-antique",
   "metadata": {},
   "source": [
    "### R-1.4\n"
   ]
  },
  {
   "cell_type": "markdown",
   "id": "pregnant-canberra",
   "metadata": {},
   "source": [
    "### R-1.5\n"
   ]
  },
  {
   "cell_type": "markdown",
   "id": "abstract-future",
   "metadata": {},
   "source": [
    "### R-1.6\n"
   ]
  },
  {
   "cell_type": "markdown",
   "id": "lesser-broadcasting",
   "metadata": {},
   "source": [
    "### R-1.7\n"
   ]
  },
  {
   "cell_type": "markdown",
   "id": "fuzzy-correlation",
   "metadata": {},
   "source": [
    "### R-1.8"
   ]
  },
  {
   "cell_type": "markdown",
   "id": "coupled-occasions",
   "metadata": {},
   "source": [
    "### R-1.9"
   ]
  },
  {
   "cell_type": "markdown",
   "id": "distributed-scottish",
   "metadata": {},
   "source": [
    "### R-1.10\n",
    "What parameters should be sent to the `range` constructor, to produce a range with values 8, 6, 4, 2, 0, -2, -4, -6, -8?"
   ]
  },
  {
   "cell_type": "code",
   "execution_count": 16,
   "id": "abstract-marijuana",
   "metadata": {
    "pycharm": {
     "name": "#%%\n"
    }
   },
   "outputs": [],
   "source": []
  },
  {
   "cell_type": "markdown",
   "id": "cardiovascular-headset",
   "metadata": {},
   "source": [
    "### R-1.2\n"
   ]
  },
  {
   "cell_type": "markdown",
   "id": "unknown-brazilian",
   "metadata": {},
   "source": [
    "### R-1.3\n"
   ]
  },
  {
   "cell_type": "markdown",
   "id": "recorded-assumption",
   "metadata": {},
   "source": [
    "### R-1.4\n"
   ]
  },
  {
   "cell_type": "markdown",
   "id": "german-belief",
   "metadata": {},
   "source": [
    "### R-1.5\n"
   ]
  },
  {
   "cell_type": "markdown",
   "id": "polish-blowing",
   "metadata": {},
   "source": [
    "### R-1.6\n"
   ]
  },
  {
   "cell_type": "markdown",
   "id": "stunning-toronto",
   "metadata": {},
   "source": [
    "### R-1.7\n"
   ]
  },
  {
   "cell_type": "markdown",
   "id": "inside-nature",
   "metadata": {},
   "source": [
    "### R-1.8"
   ]
  },
  {
   "cell_type": "markdown",
   "id": "assigned-hybrid",
   "metadata": {},
   "source": [
    "### R-1.9"
   ]
  },
  {
   "cell_type": "markdown",
   "id": "earned-delay",
   "metadata": {},
   "source": [
    "### R-1.10\n",
    "What parameters should be sent to the `range` constructor, to produce a range with values 8, 6, 4, 2, 0, -2, -4, -6, -8?"
   ]
  },
  {
   "cell_type": "code",
   "execution_count": 16,
   "id": "sealed-vision",
   "metadata": {
    "pycharm": {
     "name": "#%%\n"
    }
   },
   "outputs": [],
   "source": []
  },
  {
   "cell_type": "markdown",
   "id": "preliminary-transfer",
   "metadata": {},
   "source": [
    "### R-1.2\n"
   ]
  },
  {
   "cell_type": "markdown",
   "id": "violent-methodology",
   "metadata": {},
   "source": [
    "### R-1.3\n"
   ]
  },
  {
   "cell_type": "markdown",
   "id": "atlantic-bathroom",
   "metadata": {},
   "source": [
    "### R-1.4\n"
   ]
  },
  {
   "cell_type": "markdown",
   "id": "great-prize",
   "metadata": {},
   "source": [
    "### R-1.5\n"
   ]
  },
  {
   "cell_type": "markdown",
   "id": "geological-ceiling",
   "metadata": {},
   "source": [
    "### R-1.6\n"
   ]
  },
  {
   "cell_type": "markdown",
   "id": "abandoned-reward",
   "metadata": {},
   "source": [
    "### R-1.7\n"
   ]
  },
  {
   "cell_type": "markdown",
   "id": "literary-applicant",
   "metadata": {},
   "source": [
    "### R-1.8"
   ]
  },
  {
   "cell_type": "markdown",
   "id": "blond-hurricane",
   "metadata": {},
   "source": [
    "### R-1.9"
   ]
  },
  {
   "cell_type": "markdown",
   "id": "roman-juice",
   "metadata": {},
   "source": [
    "### R-1.10\n",
    "What parameters should be sent to the `range` constructor, to produce a range with values 8, 6, 4, 2, 0, -2, -4, -6, -8?"
   ]
  },
  {
   "cell_type": "code",
   "execution_count": 16,
   "id": "boolean-starter",
   "metadata": {
    "pycharm": {
     "name": "#%%\n"
    }
   },
   "outputs": [],
   "source": []
  },
  {
   "cell_type": "markdown",
   "id": "neither-finance",
   "metadata": {},
   "source": [
    "### R-1.2\n"
   ]
  },
  {
   "cell_type": "markdown",
   "id": "forty-christian",
   "metadata": {},
   "source": [
    "### R-1.3\n"
   ]
  },
  {
   "cell_type": "markdown",
   "id": "verified-small",
   "metadata": {},
   "source": [
    "### R-1.4\n"
   ]
  },
  {
   "cell_type": "markdown",
   "id": "military-parts",
   "metadata": {},
   "source": [
    "### R-1.5\n"
   ]
  },
  {
   "cell_type": "markdown",
   "id": "laden-secretariat",
   "metadata": {},
   "source": [
    "### R-1.6\n"
   ]
  },
  {
   "cell_type": "markdown",
   "id": "fleet-relaxation",
   "metadata": {},
   "source": [
    "### R-1.7\n"
   ]
  },
  {
   "cell_type": "markdown",
   "id": "constitutional-matrix",
   "metadata": {},
   "source": [
    "### R-1.8"
   ]
  },
  {
   "cell_type": "markdown",
   "id": "consistent-genesis",
   "metadata": {},
   "source": [
    "### R-1.9"
   ]
  },
  {
   "cell_type": "markdown",
   "id": "secret-saturday",
   "metadata": {},
   "source": [
    "### R-1.10\n",
    "What parameters should be sent to the `range` constructor, to produce a range with values 8, 6, 4, 2, 0, -2, -4, -6, -8?"
   ]
  },
  {
   "cell_type": "markdown",
   "id": "resistant-conservation",
   "metadata": {},
   "source": [
    "#### Solution"
   ]
  },
  {
   "cell_type": "code",
   "execution_count": 17,
   "id": "nervous-bahamas",
   "metadata": {
    "pycharm": {
     "name": "#%%\n"
    }
   },
   "outputs": [
    {
     "data": {
      "text/plain": [
       "[8, 6, 4, 2, 0, -2, -4, -6, -8]"
      ]
     },
     "execution_count": 17,
     "metadata": {},
     "output_type": "execute_result"
    }
   ],
   "source": [
    "[i for i in range(8, -9, -2)]"
   ]
  },
  {
   "cell_type": "markdown",
   "id": "according-european",
   "metadata": {},
   "source": [
    "### R-1.11\n",
    "Demonstrate how to use Python’s list comprehension syntax to produce the list [1, 2, 4, 8, 16, 32, 64, 128, 256]."
   ]
  },
  {
   "cell_type": "markdown",
   "id": "interior-assumption",
   "metadata": {},
   "source": [
    "### Solution"
   ]
  },
  {
   "cell_type": "code",
   "execution_count": 18,
   "id": "infinite-president",
   "metadata": {
    "pycharm": {
     "name": "#%%\n"
    }
   },
   "outputs": [
    {
     "data": {
      "text/plain": [
       "[2, 4, 8, 16, 32]"
      ]
     },
     "execution_count": 18,
     "metadata": {},
     "output_type": "execute_result"
    }
   ],
   "source": [
    "[2**i for i in range(1,6)]"
   ]
  },
  {
   "cell_type": "markdown",
   "id": "floppy-ensemble",
   "metadata": {},
   "source": [
    "### R-1.12\n",
    "Python's random module includes a function `choice(data)` that returns a random element from a non-empty sequence. The `random` module includes a more basic function `randrange`, with parametrization similar to the built-in `range` function, that return a random choice from the given range. Using only the `randrange` function, implement your own version of the `choice` function."
   ]
  },
  {
   "cell_type": "code",
   "execution_count": 18,
   "id": "impressed-stopping",
   "metadata": {
    "pycharm": {
     "name": "#%%\n"
    }
   },
   "outputs": [],
   "source": []
  },
  {
   "cell_type": "code",
   "execution_count": 18,
   "id": "oriental-corpus",
   "metadata": {
    "pycharm": {
     "name": "#%%\n"
    }
   },
   "outputs": [],
   "source": []
  },
  {
   "cell_type": "code",
   "execution_count": 18,
   "id": "ecological-policy",
   "metadata": {
    "pycharm": {
     "name": "#%%\n"
    }
   },
   "outputs": [],
   "source": []
  },
  {
   "cell_type": "code",
   "execution_count": 18,
   "id": "angry-kennedy",
   "metadata": {
    "pycharm": {
     "name": "#%%\n"
    }
   },
   "outputs": [],
   "source": []
  },
  {
   "cell_type": "code",
   "execution_count": 18,
   "id": "graduate-income",
   "metadata": {
    "pycharm": {
     "name": "#%%\n"
    }
   },
   "outputs": [],
   "source": []
  },
  {
   "cell_type": "code",
   "execution_count": 18,
   "id": "popular-disney",
   "metadata": {
    "pycharm": {
     "name": "#%%\n"
    }
   },
   "outputs": [],
   "source": []
  },
  {
   "cell_type": "code",
   "execution_count": 18,
   "id": "junior-vatican",
   "metadata": {
    "pycharm": {
     "name": "#%%\n"
    }
   },
   "outputs": [],
   "source": []
  },
  {
   "cell_type": "code",
   "execution_count": 18,
   "id": "composite-greeting",
   "metadata": {
    "pycharm": {
     "name": "#%%\n"
    }
   },
   "outputs": [],
   "source": []
  }
 ],
 "metadata": {
  "kernelspec": {
   "display_name": "Python 3",
   "language": "python",
   "name": "python3"
  },
  "language_info": {
   "codemirror_mode": {
    "name": "ipython",
    "version": 3
   },
   "file_extension": ".py",
   "mimetype": "text/x-python",
   "name": "python",
   "nbconvert_exporter": "python",
   "pygments_lexer": "ipython3",
   "version": "3.7.0"
  }
 },
 "nbformat": 4,
 "nbformat_minor": 5
}