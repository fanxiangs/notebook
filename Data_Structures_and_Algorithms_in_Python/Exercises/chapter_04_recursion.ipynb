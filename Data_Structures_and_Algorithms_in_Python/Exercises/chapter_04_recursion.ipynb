{
 "cells": [
  {
   "cell_type": "markdown",
   "metadata": {},
   "source": [
    "# Chapter 04: Recursion"
   ]
  },
  {
   "cell_type": "code",
   "execution_count": 1,
   "metadata": {},
   "outputs": [],
   "source": [
    "import numpy as np\n",
    "import matplotlib.pyplot as plt\n",
    "%matplotlib inline"
   ]
  },
  {
   "cell_type": "markdown",
   "metadata": {},
   "source": [
    "## R-4.1\n",
    "对于一个含有n个元素的数列S，描述一个递归算法查找其最大值"
   ]
  },
  {
   "cell_type": "markdown",
   "metadata": {},
   "source": [
    "### Solution\n",
    "Don’t forget about the space used by the function stack."
   ]
  },
  {
   "cell_type": "code",
   "execution_count": 2,
   "metadata": {
    "pycharm": {
     "name": "#%%\n"
    }
   },
   "outputs": [],
   "source": [
    "def max_recursive(seq, start):\n",
    "    if len(seq) == 1:\n",
    "        return seq[0]\n",
    "    elif seq[start] >= seq[start+1]:\n",
    "        del seq[start+1]\n",
    "    elif seq[start] < seq[start+1]:\n",
    "        del seq[start]\n",
    "    else:\n",
    "        KeyError()\n",
    "    return max_recursive(seq,start)\n",
    "    "
   ]
  },
  {
   "cell_type": "code",
   "execution_count": 3,
   "metadata": {},
   "outputs": [
    {
     "name": "stdout",
     "output_type": "stream",
     "text": [
      "maximum of seq1 should be  9\n",
      "maximum of seq1 should be  98\n",
      "maximum of seq1 should be  999\n",
      "seq1:  9\n",
      "seq2:  98\n",
      "seq3:  999\n"
     ]
    }
   ],
   "source": [
    "seq1 = np.random.randint(0, 10, size=(10,)).tolist()\n",
    "print(\"maximum of seq1 should be \", max(seq1))\n",
    "seq2 = np.random.randint(0, 100, size=(100,)).tolist()\n",
    "print(\"maximum of seq1 should be \", max(seq2))\n",
    "seq3 = np.random.randint(0, 1000, size=(1000,)).tolist()\n",
    "print(\"maximum of seq1 should be \", max(seq3))\n",
    "\n",
    "print(\"seq1: \", max_recursive(seq1, 0))\n",
    "print(\"seq2: \", max_recursive(seq2, 0))\n",
    "print(\"seq3: \", max_recursive(seq3, 0))\n"
   ]
  },
  {
   "cell_type": "markdown",
   "metadata": {},
   "source": [
    "## R-4.6\n",
    "写一个递归函数,用于计算第n个调和数，其中 Hn=1+1/2+1/3+…+1/n,$H_n = \\sum_{i=1}^n 1/i$"
   ]
  },
  {
   "cell_type": "markdown",
   "metadata": {},
   "source": [
    "### Solution\n",
    "Start with the last term."
   ]
  },
  {
   "cell_type": "code",
   "execution_count": 4,
   "metadata": {},
   "outputs": [
    {
     "data": {
      "text/plain": [
       "1.5"
      ]
     },
     "execution_count": 4,
     "metadata": {},
     "output_type": "execute_result"
    }
   ],
   "source": [
    "def get_harmonic(n):\n",
    "    if n == 1:\n",
    "        return 1\n",
    "    return get_harmonic(n-1) + 1/n\n",
    "get_harmonic(2)"
   ]
  },
  {
   "cell_type": "markdown",
   "metadata": {},
   "source": [
    "## R-4.7\n",
    "写一个递归函数,它可以把一串数字转换成对应的整数"
   ]
  },
  {
   "cell_type": "markdown",
   "metadata": {},
   "source": [
    "### Solution\n",
    "Process the string left to right."
   ]
  },
  {
   "cell_type": "code",
   "execution_count": 5,
   "metadata": {},
   "outputs": [
    {
     "data": {
      "text/plain": [
       "13531"
      ]
     },
     "execution_count": 5,
     "metadata": {},
     "output_type": "execute_result"
    }
   ],
   "source": [
    "def tonum(s,n,m):\n",
    "    if n <=0:\n",
    "        return int(s[-1])\n",
    "    return tonum(s,n-1,m+1) + int(s[m])*10**n\n",
    "s='13531'\n",
    "tonum(s,len(s)-1,0)"
   ]
  },
  {
   "cell_type": "markdown",
   "metadata": {},
   "source": [
    "## C-4.12\n",
    "在只使用加法和减法的情况下,给出一个递归算法,来计算两个正整数m和n的乘积"
   ]
  },
  {
   "cell_type": "markdown",
   "metadata": {
    "pycharm": {
     "name": "#%%\n"
    }
   },
   "source": [
    "### Solution\n",
    "You need subtraction to count down from m or n and addition to do the arithmetic needed to get the right answer."
   ]
  },
  {
   "cell_type": "code",
   "execution_count": 6,
   "metadata": {
    "pycharm": {
     "name": "#%%\n"
    }
   },
   "outputs": [
    {
     "data": {
      "text/plain": [
       "6"
      ]
     },
     "execution_count": 6,
     "metadata": {},
     "output_type": "execute_result"
    }
   ],
   "source": [
    "def multiply(m,n):\n",
    "    if n==0:\n",
    "        return 0\n",
    "    return multiply(m,n-1) + m\n",
    "\n",
    "multiply(2,3)"
   ]
  },
  {
   "cell_type": "markdown",
   "metadata": {
    "pycharm": {
     "name": "#%%\n"
    }
   },
   "source": [
    "## C-4.16\n",
    "编写一个简短的递归python函数,它接收一个字符串s并输出其逆置字符串\n",
    "\n"
   ]
  },
  {
   "cell_type": "markdown",
   "metadata": {
    "pycharm": {
     "name": "#%%\n"
    }
   },
   "source": [
    "### Solution\n",
    "You can use syntax print(ch, end='') to print one character ch at a time, without extraneous spaces."
   ]
  },
  {
   "cell_type": "code",
   "execution_count": 7,
   "metadata": {
    "pycharm": {
     "name": "#%%\n"
    }
   },
   "outputs": [
    {
     "data": {
      "text/plain": [
       "'snap&stop'"
      ]
     },
     "execution_count": 7,
     "metadata": {},
     "output_type": "execute_result"
    }
   ],
   "source": [
    "def reverse(s):\n",
    "    if len(s)==0:\n",
    "        return ''\n",
    "    return s[-1]+reverse(s[:-1])\n",
    "    \n",
    "s= 'pots&pans'\n",
    "reverse(s)"
   ]
  },
  {
   "cell_type": "markdown",
   "metadata": {
    "pycharm": {
     "name": "#%%\n"
    }
   },
   "source": [
    "## C-4.17\n",
    "编写一个简短的递归python函数,确定一个字符串s是否是一个回文字符串"
   ]
  },
  {
   "cell_type": "markdown",
   "metadata": {
    "pycharm": {
     "name": "#%%\n"
    }
   },
   "source": [
    "### Solution\n",
    "Check the equality of the first and last characters and recur (but be careful to return the correct value for both odd- and even-length strings)."
   ]
  },
  {
   "cell_type": "code",
   "execution_count": null,
   "outputs": [],
   "source": [
    "def ishuiwen(s,left,right):\n",
    "    if left > right-1:\n",
    "        return True\n",
    "    if s[left] != s[right]:\n",
    "        return False\n",
    "    return ishuiwen(s,left+1,right-1)\n",
    "s=\"abccba\"\n",
    "ishuiwen(s,0,len(s)-1)"
   ],
   "metadata": {
    "collapsed": false,
    "pycharm": {
     "name": "#%%\n"
    }
   }
  },
  {
   "cell_type": "markdown",
   "source": [
    "## C-4.19\n",
    "编写一个简短的递归python函数,用于重新排列一个整数值序列,使得所有偶数值出现在所有奇数值的前面"
   ],
   "metadata": {
    "collapsed": false
   }
  },
  {
   "cell_type": "markdown",
   "source": [
    "### Solution\n",
    "Consider whether the last element is odd or even and then put it at the appropriate location based on this and recur."
   ],
   "metadata": {
    "collapsed": false
   }
  },
  {
   "cell_type": "code",
   "execution_count": null,
   "outputs": [],
   "source": [
    "def order(data,n,m):\n",
    "    \"\"\"\n",
    "    奇数n+1，偶数m+1\n",
    "    \"\"\"\n",
    "    print(data,n,m)\n",
    "    if n+m==len(data)-1:\n",
    "        return data\n",
    "    if data[n] % 2 == 1:\n",
    "        data.append(data[n])\n",
    "        data.pop(n)\n",
    "        return order(data,n,m+1)\n",
    "    else:\n",
    "        return order(data,n+1,m)\n",
    "\n",
    "data=[10,1,3,5,7,2,4,6,8]\n",
    "order(data,0,0)\n",
    "print(data)\n"
   ],
   "metadata": {
    "collapsed": false,
    "pycharm": {
     "name": "#%%\n"
    }
   }
  },
  {
   "cell_type": "code",
   "execution_count": 8,
   "metadata": {},
   "outputs": [
    {
     "data": {
      "text/plain": [
       "True"
      ]
     },
     "execution_count": 8,
     "metadata": {},
     "output_type": "execute_result"
    }
   ],
   "source": []
  },
  {
   "cell_type": "markdown",
   "metadata": {},
   "source": [
    "## C-4.19\n",
    "编写一个简短的递归python函数,用于重新排列一个整数值序列,使得所有偶数值出现在所有奇数值的前面"
   ]
  },
  {
   "cell_type": "markdown",
   "metadata": {},
   "source": [
    "### Solution\n",
    "Consider whether the last element is odd or even and then put it at the appropriate location based on this and recur."
   ]
  },
  {
   "cell_type": "code",
   "execution_count": 9,
   "metadata": {},
   "outputs": [
    {
     "name": "stdout",
     "output_type": "stream",
     "text": [
      "[10, 1, 3, 5, 7, 2, 4, 6, 8] 0 0\n",
      "[10, 1, 3, 5, 7, 2, 4, 6, 8] 1 0\n",
      "[10, 3, 5, 7, 2, 4, 6, 8, 1] 1 1\n",
      "[10, 5, 7, 2, 4, 6, 8, 1, 3] 1 2\n",
      "[10, 7, 2, 4, 6, 8, 1, 3, 5] 1 3\n",
      "[10, 2, 4, 6, 8, 1, 3, 5, 7] 1 4\n",
      "[10, 2, 4, 6, 8, 1, 3, 5, 7] 2 4\n",
      "[10, 2, 4, 6, 8, 1, 3, 5, 7] 3 4\n",
      "[10, 2, 4, 6, 8, 1, 3, 5, 7] 4 4\n",
      "[10, 2, 4, 6, 8, 1, 3, 5, 7]\n"
     ]
    }
   ],
   "source": [
    "def order(data,n,m):\n",
    "    \"\"\"\n",
    "    奇数n+1，偶数m+1\n",
    "    \"\"\"\n",
    "    print(data,n,m)\n",
    "    if n+m==len(data)-1:\n",
    "        return data\n",
    "    if data[n] % 2 == 1:\n",
    "        data.append(data[n])\n",
    "        data.pop(n)\n",
    "        return order(data,n,m+1)\n",
    "    else:\n",
    "        return order(data,n+1,m)\n",
    "\n",
    "data=[10,1,3,5,7,2,4,6,8]\n",
    "order(data,0,0)\n",
    "print(data)\n"
   ]
  },
  {
   "cell_type": "code",
   "execution_count": null,
   "metadata": {},
   "outputs": [],
   "source": []
  }
 ],
 "metadata": {
  "kernelspec": {
   "display_name": "Python 3",
   "language": "python",
   "name": "python3"
  },
  "language_info": {
   "codemirror_mode": {
    "name": "ipython",
    "version": 3
   },
   "file_extension": ".py",
   "mimetype": "text/x-python",
   "name": "python",
   "nbconvert_exporter": "python",
   "pygments_lexer": "ipython3",
   "version": "3.7.6"
  }
 },
 "nbformat": 4,
 "nbformat_minor": 5
}