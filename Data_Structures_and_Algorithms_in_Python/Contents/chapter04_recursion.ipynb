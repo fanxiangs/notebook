{
 "cells": [
  {
   "cell_type": "markdown",
   "metadata": {
    "collapsed": true
   },
   "source": [
    "# Chapter 04: Recursion"
   ]
  },
  {
   "cell_type": "markdown",
   "metadata": {},
   "source": [
    "本章将从四个递归的使用例证来阐述\n",
    "- 阶乘函数\n",
    "- 英式标尺的递归模式，分形结构\n",
    "- 二分查找\n",
    "- 计算机文件系统的递归结构"
   ]
  },
  {
   "cell_type": "markdown",
   "metadata": {},
   "source": [
    "## 4.1 说明性的例子"
   ]
  },
  {
   "cell_type": "markdown",
   "metadata": {},
   "source": [
    "### 4.1.1 阶乘函数\n"
   ]
  },
  {
   "cell_type": "code",
   "execution_count": 1,
   "metadata": {},
   "outputs": [
    {
     "data": {
      "text/plain": [
       "24"
      ]
     },
     "execution_count": 1,
     "metadata": {},
     "output_type": "execute_result"
    }
   ],
   "source": [
    "def factorial(n):\n",
    "    if n == 0:\n",
    "        return 1\n",
    "    return n*factorial(n-1)\n",
    "\n",
    "factorial(4)\n"
   ]
  },
  {
   "cell_type": "markdown",
   "metadata": {},
   "source": [
    "### 4.1.2 绘制英式标尺\n"
   ]
  },
  {
   "cell_type": "markdown",
   "metadata": {},
   "source": [
    "### 4.1.3 二分查找\n"
   ]
  },
  {
   "cell_type": "code",
   "execution_count": 2,
   "metadata": {},
   "outputs": [],
   "source": [
    "def binary_search(data, target, low, high):\n",
    "    if low > high:\n",
    "        return False\n",
    "    else:\n",
    "        mid = (low + high)//2\n",
    "        if data[mid] == target:\n",
    "            return True\n",
    "        elif data[mid] > target:\n",
    "            binary_search(data, target, low, mid-1)\n",
    "        elif data[mid] < target:\n",
    "            binary_search(data, target, mid+1, high)\n",
    "data = [0,1,2,3,4,5,6,7,8]\n",
    "binary_search(data,70,0,len(data)-1)\n"
   ]
  },
  {
   "cell_type": "markdown",
   "metadata": {},
   "source": [
    "### 4.1.4 文件系统\n"
   ]
  },
  {
   "cell_type": "code",
   "execution_count": 3,
   "metadata": {
    "pycharm": {
     "name": "#%%\n"
    }
   },
   "outputs": [
    {
     "name": "stdout",
     "output_type": "stream",
     "text": [
      "10963   /Users/fan/PycharmProjects/notebook/Data_Structures_and_Algorithms_in_Python/Contents/Chapter04_recursion.ipynb\n",
      "10172   /Users/fan/PycharmProjects/notebook/Data_Structures_and_Algorithms_in_Python/Contents/.ipynb_checkpoints/Chapter04_recursion-checkpoint.ipynb\n",
      "10268   /Users/fan/PycharmProjects/notebook/Data_Structures_and_Algorithms_in_Python/Contents/.ipynb_checkpoints\n",
      "21359   /Users/fan/PycharmProjects/notebook/Data_Structures_and_Algorithms_in_Python/Contents\n",
      "14616   /Users/fan/PycharmProjects/notebook/Data_Structures_and_Algorithms_in_Python/Exercises/.ipynb_checkpoints/Chapter_01-checkpoint.ipynb\n",
      "14712   /Users/fan/PycharmProjects/notebook/Data_Structures_and_Algorithms_in_Python/Exercises/.ipynb_checkpoints\n",
      "40329   /Users/fan/PycharmProjects/notebook/Data_Structures_and_Algorithms_in_Python/Exercises/Chapter_01.ipynb\n",
      "55169   /Users/fan/PycharmProjects/notebook/Data_Structures_and_Algorithms_in_Python/Exercises\n",
      "64      /Users/fan/PycharmProjects/notebook/Data_Structures_and_Algorithms_in_Python/.ipynb_checkpoints\n",
      "76752   /Users/fan/PycharmProjects/notebook/Data_Structures_and_Algorithms_in_Python\n"
     ]
    },
    {
     "data": {
      "text/plain": [
       "76752"
      ]
     },
     "execution_count": 3,
     "metadata": {},
     "output_type": "execute_result"
    }
   ],
   "source": [
    "import os\n",
    "def disk_usage(path):\n",
    "    total = os.path.getsize(path)\n",
    "    if os.path.isdir(path):\n",
    "        for filename in os.listdir(path):\n",
    "            childpath = os.path.join(path, filename)\n",
    "            total += disk_usage(childpath)\n",
    "    print('{0:<7}'.format(total),path)\n",
    "    return total\n",
    "\n",
    "\n",
    "path = '/Users/fan/PycharmProjects/notebook/Data_Structures_and_Algorithms_in_Python'\n",
    "disk_usage(path)"
   ]
  },
  {
   "cell_type": "markdown",
   "metadata": {
    "pycharm": {
     "name": "#%% md\n"
    }
   },
   "source": [
    "## 4.2 递归算法的分析"
   ]
  },
  {
   "cell_type": "markdown",
   "metadata": {},
   "source": [
    "## 4.3 递归算法的不足"
   ]
  },
  {
   "cell_type": "markdown",
   "metadata": {},
   "source": [
    "使用二分递归计算第n个斐波那契数列\n",
    "效率低，后者调用的数量是前者的两倍"
   ]
  },
  {
   "cell_type": "code",
   "execution_count": 4,
   "metadata": {
    "pycharm": {
     "name": "#%%\n"
    }
   },
   "outputs": [
    {
     "data": {
      "text/plain": [
       "13"
      ]
     },
     "execution_count": 4,
     "metadata": {},
     "output_type": "execute_result"
    }
   ],
   "source": [
    "def bad_fibonacci(n):\n",
    "    if n <= 1:\n",
    "        return n\n",
    "    else:\n",
    "        return bad_fibonacci(n-2) + bad_fibonacci(n-1)\n",
    "bad_fibonacci(7)"
   ]
  },
  {
   "cell_type": "markdown",
   "metadata": {},
   "source": [
    "使用线性递归计算第n个斐波那契数列"
   ]
  },
  {
   "cell_type": "code",
   "execution_count": 5,
   "metadata": {
    "pycharm": {
     "name": "#%%\n"
    }
   },
   "outputs": [
    {
     "data": {
      "text/plain": [
       "13"
      ]
     },
     "execution_count": 5,
     "metadata": {},
     "output_type": "execute_result"
    }
   ],
   "source": [
    "def good_fibonacci(n):\n",
    "    if n <= 1:\n",
    "        return (n,0)\n",
    "    else:\n",
    "        (a,b) = good_fibonacci(n-1)\n",
    "        return (a+b,a)\n",
    "bad_fibonacci(7)  "
   ]
  },
  {
   "cell_type": "markdown",
   "metadata": {},
   "source": [
    "#### python中最大的递归深度\n",
    "1. 默认1000，如果超过这个限制，解释器就会生成RuntimeError消息\n",
    "2. 更改递归限制\n",
    "```python\n",
    "import sys\n",
    "sys.setrecursionlimit(10000) # change limit to 10000\n",
    "```"
   ]
  },
  {
   "cell_type": "markdown",
   "metadata": {},
   "source": [
    "## 4.4 递归的其他例子"
   ]
  },
  {
   "cell_type": "markdown",
   "metadata": {},
   "source": [
    "### 4.4.1 线性递归"
   ]
  },
  {
   "cell_type": "markdown",
   "metadata": {},
   "source": [
    "#### 使用线性递归计算序列元素的和"
   ]
  },
  {
   "cell_type": "code",
   "execution_count": 6,
   "metadata": {},
   "outputs": [
    {
     "data": {
      "text/plain": [
       "15"
      ]
     },
     "execution_count": 6,
     "metadata": {},
     "output_type": "execute_result"
    }
   ],
   "source": [
    "def linear_sum(s,n):\n",
    "    if n == 0:\n",
    "        return 0\n",
    "    return linear_sum(s,n-1) + s[n-1]\n",
    "s = [4,3,6,2]\n",
    "n = 4\n",
    "linear_sum(s,n)\n",
    "    "
   ]
  },
  {
   "cell_type": "markdown",
   "metadata": {},
   "source": [
    "##### 使用线性递归逆置序列的元素"
   ]
  },
  {
   "cell_type": "code",
   "execution_count": 7,
   "metadata": {},
   "outputs": [
    {
     "name": "stdout",
     "output_type": "stream",
     "text": [
      "[5, 9, 8, 2, 6, 3, 4]\n"
     ]
    }
   ],
   "source": [
    "def reverse(s,start,stop):\n",
    "    if start > stop - 1:\n",
    "        return\n",
    "    s[start], s[stop] = s[stop], s[start]\n",
    "    return reverse(s,start+1,stop-1)\n",
    "s = [4,3,6,2,8,9,5]\n",
    "reverse(s,0,len(s)-1)\n",
    "print(s)"
   ]
  },
  {
   "cell_type": "markdown",
   "metadata": {},
   "source": [
    "#### 实现幂函数\n",
    "$$\n",
    "\\text{power}(x, n) = \n",
    "\\begin{cases}\n",
    "1 & \\text{if } n = 0 \\\\\n",
    "x \\cdot \\text{power}(x,n-1)& \\text{if } n \\not= 0\\\\ \n",
    "\\end{cases}$$\n",
    "时间复杂度$O(n)$"
   ]
  },
  {
   "cell_type": "code",
   "execution_count": 8,
   "metadata": {},
   "outputs": [
    {
     "data": {
      "text/plain": [
       "16"
      ]
     },
     "execution_count": 8,
     "metadata": {},
     "output_type": "execute_result"
    }
   ],
   "source": [
    "def power(x,n):\n",
    "    if n == 0:\n",
    "        return 1\n",
    "    return power(x,n-1)*x\n",
    "power(2,4)"
   ]
  },
  {
   "cell_type": "markdown",
   "metadata": {},
   "source": [
    "优化\n",
    "$$\n",
    "\\text{power}(x, n) = \n",
    "\\begin{cases}\n",
    "1 & \\text{if } n = 0 \\\\\n",
    "x \\cdot (\\text{power}(x, \\left\\lfloor \\frac{n}{2} \\right\\rfloor ))^2& \\text{if } n > 0 \\ \\text{is odd}\\\\ \n",
    "(\\text{power}(x, \\left\\lfloor \\frac{n}{2} \\right\\rfloor ))^2& \\text{if } n > 0 \\ \\text{is even}\\\\ \n",
    "\\end{cases}$$\n",
    "递归深度$O(\\log n)$，占用内存$O(\\log n)$"
   ]
  },
  {
   "cell_type": "code",
   "execution_count": 9,
   "metadata": {},
   "outputs": [
    {
     "data": {
      "text/plain": [
       "32"
      ]
     },
     "execution_count": 9,
     "metadata": {},
     "output_type": "execute_result"
    }
   ],
   "source": [
    "def power(x,n):\n",
    "    if n == 0:\n",
    "        return 1\n",
    "    r = power(x, n//2)**2\n",
    "    if n & 1 == 1:\n",
    "        r = x*r\n",
    "    return r\n",
    "power(2,5)"
   ]
  },
  {
   "cell_type": "markdown",
   "metadata": {},
   "source": [
    "### 4.4.2 二路递归"
   ]
  },
  {
   "cell_type": "markdown",
   "metadata": {},
   "source": [
    "#### 使用二路递归计算一个序列的元素之和"
   ]
  },
  {
   "cell_type": "code",
   "execution_count": 10,
   "metadata": {},
   "outputs": [
    {
     "data": {
      "text/plain": [
       "15"
      ]
     },
     "execution_count": 10,
     "metadata": {},
     "output_type": "execute_result"
    }
   ],
   "source": [
    "s = [4,3,6,2]\n",
    "def binary_sum(s,start,stop):\n",
    "    if start == stop:\n",
    "        return 0\n",
    "    elif start == stop - 1:\n",
    "        return s[start]\n",
    "    else:\n",
    "        mid = (start+stop)//2\n",
    "        return binary_sum(s,start,mid) + binary_sum(s,mid,stop)\n",
    "s = [4,3,6,2]\n",
    "binary_sum(s,0,len(s))"
   ]
  },
  {
   "cell_type": "markdown",
   "metadata": {},
   "source": [
    "### 4.4.3 多重递归"
   ]
  },
  {
   "cell_type": "code",
   "execution_count": null,
   "metadata": {},
   "outputs": [],
   "source": []
  }
 ],
 "metadata": {
  "kernelspec": {
   "display_name": "Python 3",
   "language": "python",
   "name": "python3"
  },
  "language_info": {
   "codemirror_mode": {
    "name": "ipython",
    "version": 3
   },
   "file_extension": ".py",
   "mimetype": "text/x-python",
   "name": "python",
   "nbconvert_exporter": "python",
   "pygments_lexer": "ipython3",
   "version": "3.7.6"
  }
 },
 "nbformat": 4,
 "nbformat_minor": 1
}