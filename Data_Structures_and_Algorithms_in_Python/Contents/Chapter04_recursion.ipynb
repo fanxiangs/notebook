{
 "cells": [
  {
   "cell_type": "markdown",
   "metadata": {
    "collapsed": true
   },
   "source": [
    "# Chapter 04: Recursion"
   ]
  },
  {
   "cell_type": "markdown",
   "metadata": {},
   "source": [
    "本章将从四个递归的使用例证来阐述\n",
    "- 阶乘函数\n",
    "- 英式标尺的递归模式，分形结构\n",
    "- 二分查找\n",
    "- 计算机文件系统的递归结构"
   ]
  },
  {
   "cell_type": "markdown",
   "metadata": {},
   "source": [
    "## 4.1 说明性的例子"
   ]
  },
  {
   "cell_type": "markdown",
   "metadata": {},
   "source": [
    "### 4.1.1 阶乘函数\n"
   ]
  },
  {
   "cell_type": "code",
   "execution_count": 1,
   "metadata": {},
   "outputs": [
    {
     "data": {
      "text/plain": [
       "24"
      ]
     },
     "execution_count": 1,
     "metadata": {},
     "output_type": "execute_result"
    }
   ],
   "source": [
    "def factorial(n):\n",
    "    if n == 0:\n",
    "        return 1\n",
    "    return n*factorial(n-1)\n",
    "\n",
    "factorial(4)\n"
   ]
  },
  {
   "cell_type": "markdown",
   "metadata": {},
   "source": [
    "### 4.1.2 绘制英式标尺\n"
   ]
  },
  {
   "cell_type": "markdown",
   "metadata": {},
   "source": [
    "### 4.1.3 二分查找\n"
   ]
  },
  {
   "cell_type": "code",
   "execution_count": 2,
   "metadata": {},
   "outputs": [],
   "source": [
    "def binary_search(data, target, low, high):\n",
    "    if low > high:\n",
    "        return False\n",
    "    else:\n",
    "        mid = (low + high)//2\n",
    "        if data[mid] == target:\n",
    "            return True\n",
    "        elif data[mid] > target:\n",
    "            binary_search(data, target, low, mid-1)\n",
    "        elif data[mid] < target:\n",
    "            binary_search(data, target, mid+1, high)\n",
    "data = [0,1,2,3,4,5,6,7,8]\n",
    "binary_search(data,70,0,len(data)-1)\n"
   ]
  },
  {
   "cell_type": "markdown",
   "metadata": {},
   "source": [
    "### 4.1.4 文件系统\n"
   ]
  },
  {
   "cell_type": "markdown",
   "metadata": {
    "pycharm": {
     "name": "#%% md\n"
    }
   },
   "source": []
  },
  {
   "cell_type": "code",
   "execution_count": 13,
   "metadata": {},
   "outputs": [
    {
     "name": "stdout",
     "output_type": "stream",
     "text": [
      "4322    /Users/fan/PycharmProjects/notebook/Data_Structures_and_Algorithms_in_Python/Contents/Chapter04_recursion.ipynb\n",
      "4323    /Users/fan/PycharmProjects/notebook/Data_Structures_and_Algorithms_in_Python/Contents/.ipynb_checkpoints/Chapter04_recursion-checkpoint.ipynb\n",
      "4419    /Users/fan/PycharmProjects/notebook/Data_Structures_and_Algorithms_in_Python/Contents/.ipynb_checkpoints\n",
      "8869    /Users/fan/PycharmProjects/notebook/Data_Structures_and_Algorithms_in_Python/Contents\n",
      "14616   /Users/fan/PycharmProjects/notebook/Data_Structures_and_Algorithms_in_Python/Exercises/.ipynb_checkpoints/Chapter_01-checkpoint.ipynb\n",
      "14712   /Users/fan/PycharmProjects/notebook/Data_Structures_and_Algorithms_in_Python/Exercises/.ipynb_checkpoints\n",
      "40329   /Users/fan/PycharmProjects/notebook/Data_Structures_and_Algorithms_in_Python/Exercises/Chapter_01.ipynb\n",
      "55169   /Users/fan/PycharmProjects/notebook/Data_Structures_and_Algorithms_in_Python/Exercises\n",
      "64      /Users/fan/PycharmProjects/notebook/Data_Structures_and_Algorithms_in_Python/.ipynb_checkpoints\n",
      "64262   /Users/fan/PycharmProjects/notebook/Data_Structures_and_Algorithms_in_Python\n"
     ]
    },
    {
     "data": {
      "text/plain": [
       "64262"
      ]
     },
     "execution_count": 13,
     "metadata": {},
     "output_type": "execute_result"
    }
   ],
   "source": [
    "import os\n",
    "def disk_usage(path):\n",
    "    total = os.path.getsize(path)\n",
    "    if os.path.isdir(path):\n",
    "        for filename in os.listdir(path):\n",
    "            childpath = os.path.join(path, filename)\n",
    "            total += disk_usage(childpath)\n",
    "    print('{0:<7}'.format(total),path)\n",
    "    return total\n",
    "\n",
    "\n",
    "path = '/Users/fan/PycharmProjects/notebook/Data_Structures_and_Algorithms_in_Python'\n",
    "disk_usage(path)"
   ]
  },
  {
   "cell_type": "markdown",
   "metadata": {},
   "source": []
  },
  {
   "cell_type": "markdown",
   "metadata": {},
   "source": []
  }
 ],
 "metadata": {
  "kernelspec": {
   "display_name": "Python 3",
   "language": "python",
   "name": "python3"
  },
  "language_info": {
   "codemirror_mode": {
    "name": "ipython",
    "version": 3
   },
   "file_extension": ".py",
   "mimetype": "text/x-python",
   "name": "python",
   "nbconvert_exporter": "python",
   "pygments_lexer": "ipython3",
   "version": "3.7.6"
  }
 },
 "nbformat": 4,
 "nbformat_minor": 1
}