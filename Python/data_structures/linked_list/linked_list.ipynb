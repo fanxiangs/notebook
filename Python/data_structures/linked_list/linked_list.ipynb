{
 "cells": [
  {
   "cell_type": "markdown",
   "metadata": {},
   "source": [
    "# 单链表"
   ]
  },
  {
   "cell_type": "markdown",
   "metadata": {},
   "source": [
    "## 节点实现"
   ]
  },
  {
   "cell_type": "markdown",
   "metadata": {},
   "source": [
    "## 单链表实现及操作"
   ]
  },
  {
   "cell_type": "code",
   "execution_count": 1,
   "metadata": {},
   "outputs": [],
   "source": [
    "# %load linked_list.py\n",
    "#!/usr/bin/env python\n",
    "# author: fan\n",
    "# time: 11/06/2021\n",
    "\n",
    "class Node(object):\n",
    "    def __init__(self, data, next=None):\n",
    "        self.data = data\n",
    "        self.next = next\n",
    "\n",
    "    def __str__(self):\n",
    "        return self.data\n",
    "\n",
    "\n",
    "class LinkedList(object):\n",
    "    def __init__(self, head=None):\n",
    "        self.head = head\n",
    "\n",
    "    def __len__(self):\n",
    "        cur = self.head\n",
    "        count = 0\n",
    "        while cur is not None:\n",
    "            count += 1\n",
    "            cur = cur.next\n",
    "        return count\n",
    "\n",
    "    def append(self, data):\n",
    "        if data is None:\n",
    "            return None\n",
    "        node = Node(data)\n",
    "        if self.head is None:\n",
    "            self.head = node\n",
    "            return node\n",
    "        cur_node = self.head\n",
    "        while cur_node.next is not None:\n",
    "            cur_node = cur_node.next\n",
    "        cur_node.next = node\n",
    "        return node\n",
    "\n",
    "    def add_first(self, data):\n",
    "        if data is None:\n",
    "            return None\n",
    "        node = Node(data)\n",
    "        node.next = self.head\n",
    "        self.head = node\n",
    "        return node\n",
    "\n",
    "    def insert(self, index, data):\n",
    "        if data is None:\n",
    "            return None\n",
    "        if index <= 0:\n",
    "            self.add_first(data)\n",
    "        elif index >= self.__len__():\n",
    "            self.append(data)\n",
    "        else:\n",
    "            node = Node(data)\n",
    "            cur = self.head\n",
    "            while index > 1:\n",
    "                cur = cur.next\n",
    "                index -= 1\n",
    "            target_node = cur.next\n",
    "            cur.next = node\n",
    "            node.next = target_node\n",
    "            return node\n",
    "\n",
    "    def travel(self):\n",
    "        cur = self.head\n",
    "        while cur is not None:\n",
    "            print(cur.data, end=',')\n",
    "            cur = cur.next\n",
    "        print(end='\\n')\n",
    "\n",
    "    def delete(self, data):\n",
    "        if (data or self.head) is None:\n",
    "            return\n",
    "        if self.head.data == data:\n",
    "            self.head = self.head.next\n",
    "            return\n",
    "        pre_node = None\n",
    "        cur_node = self.head\n",
    "        while cur_node.data != data and cur_node.next is not None:\n",
    "            pre_node = cur_node\n",
    "            cur_node = cur_node.next\n",
    "        pre_node.next = cur_node.next\n",
    "\n",
    "    def get_all_data(self):\n",
    "        res = []\n",
    "        cur_node = self.head\n",
    "        while cur_node is not None:\n",
    "            res.append(cur_node.data)\n",
    "            cur_node = cur_node.next\n",
    "        return res\n",
    "\n",
    "\n",
    "if __name__ == '__main__':\n",
    "    linked_list = LinkedList()\n",
    "    linked_list.append(10)\n"
   ]
  },
  {
   "cell_type": "code",
   "execution_count": null,
   "outputs": [],
   "source": [
    "# %load test_linked_list.py\n",
    "import unittest\n",
    "\n",
    "from Python.data_structures.linked_list.linked_list import LinkedList\n",
    "\n",
    "\n",
    "class TestLinkedList(unittest.TestCase):\n",
    "    def test_append(self):\n",
    "        linked_list = LinkedList()\n",
    "        linked_list.append(10)\n",
    "        linked_list.append('a')\n",
    "        self.assertEqual(linked_list.get_all_data(), [10, 'a'])\n",
    "\n",
    "    def test_add_first(self):\n",
    "        linked_list = LinkedList()\n",
    "        linked_list.append(10)\n",
    "        linked_list.add_first(1)\n",
    "        self.assertEqual(linked_list.get_all_data(), [1, 10])\n",
    "\n",
    "    def test_insert(self):\n",
    "        linked_list = LinkedList()\n",
    "        linked_list.append(10)\n",
    "        linked_list.insert(0, 9)\n",
    "        self.assertEqual(linked_list.get_all_data(), [9, 10])\n",
    "        linked_list.insert(-2, 8)\n",
    "        self.assertEqual(linked_list.get_all_data(), [8, 9, 10])\n",
    "        linked_list.insert(6, 11)\n",
    "        self.assertEqual(linked_list.get_all_data(), [8, 9, 10, 11])\n",
    "\n",
    "    def test_delete(self):\n",
    "        linked_list = LinkedList()\n",
    "        linked_list.append(10)\n",
    "        linked_list.append(11)\n",
    "        linked_list.append(12)\n",
    "        linked_list.append(13)\n",
    "        self.assertEqual(linked_list.get_all_data(), [10, 11, 12, 13])\n",
    "        linked_list.delete(12)\n",
    "        self.assertEqual(linked_list.get_all_data(), [10, 11, 13])\n",
    "\n",
    "\n",
    "if __name__ == '__main__':\n",
    "    unittest.main()\n"
   ],
   "metadata": {
    "collapsed": false,
    "pycharm": {
     "name": "#%%\n"
    }
   }
  },
  {
   "cell_type": "code",
   "execution_count": null,
   "metadata": {
    "pycharm": {
     "name": "#%%\n"
    }
   },
   "outputs": [],
   "source": []
  },
  {
   "cell_type": "code",
   "execution_count": null,
   "metadata": {},
   "outputs": [],
   "source": []
  }
 ],
 "metadata": {
  "kernelspec": {
   "display_name": "Python 3",
   "language": "python",
   "name": "python3"
  },
  "language_info": {
   "codemirror_mode": {
    "name": "ipython",
    "version": 3
   },
   "file_extension": ".py",
   "mimetype": "text/x-python",
   "name": "python",
   "nbconvert_exporter": "python",
   "pygments_lexer": "ipython3",
   "version": "3.7.0"
  },
  "toc": {
   "base_numbering": 1,
   "nav_menu": {},
   "number_sections": true,
   "sideBar": true,
   "skip_h1_title": false,
   "title_cell": "Table of Contents",
   "title_sidebar": "Contents",
   "toc_cell": false,
   "toc_position": {},
   "toc_section_display": true,
   "toc_window_display": true
  }
 },
 "nbformat": 4,
 "nbformat_minor": 1
}